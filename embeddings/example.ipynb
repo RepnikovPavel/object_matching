{
 "cells": [
  {
   "cell_type": "code",
   "execution_count": 15,
   "metadata": {},
   "outputs": [],
   "source": [
    "import sys\n",
    "import numpy as np\n",
    "from torch.utils.data import DataLoader\n",
    "sys.path.append('../')\n",
    "from datasets.d1 import d1_pure_strings,d1_adapter\n",
    "from e1 import e1_embedding\n",
    "import tqdm"
   ]
  },
  {
   "cell_type": "code",
   "execution_count": null,
   "metadata": {},
   "outputs": [],
   "source": [
    "dataset = d1_pure_strings(root_='/home/user/datasets_row/d1')\n",
    "dataset.level0_mode()"
   ]
  },
  {
   "cell_type": "code",
   "execution_count": null,
   "metadata": {},
   "outputs": [],
   "source": [
    "encoder = e1_embedding(ckpt='navec_hudlit_v1_12B_500K_300d_100q.tar')"
   ]
  },
  {
   "cell_type": "code",
   "execution_count": null,
   "metadata": {},
   "outputs": [],
   "source": [
    "for uids, X_batch,y_batch in tqdm.tqdm(DataLoader(dataset, batch_size=4,shuffle=False)):\n",
    "    embeddings = encoder(X_batch)"
   ]
  }
 ],
 "metadata": {
  "kernelspec": {
   "display_name": "natasha_venv",
   "language": "python",
   "name": "python3"
  },
  "language_info": {
   "codemirror_mode": {
    "name": "ipython",
    "version": 3
   },
   "file_extension": ".py",
   "mimetype": "text/x-python",
   "name": "python",
   "nbconvert_exporter": "python",
   "pygments_lexer": "ipython3",
   "version": "3.10.12"
  }
 },
 "nbformat": 4,
 "nbformat_minor": 2
}
