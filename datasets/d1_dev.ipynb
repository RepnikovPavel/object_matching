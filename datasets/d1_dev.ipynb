{
 "cells": [
  {
   "cell_type": "code",
   "execution_count": null,
   "metadata": {},
   "outputs": [],
   "source": [
    "import pandas as pd\n",
    "from pathlib import Path"
   ]
  },
  {
   "cell_type": "code",
   "execution_count": null,
   "metadata": {},
   "outputs": [],
   "source": [
    "root=Path('~/datasets_row/d1')"
   ]
  },
  {
   "cell_type": "code",
   "execution_count": null,
   "metadata": {},
   "outputs": [],
   "source": [
    "!tree ~/datasets_row/d1 --du -h"
   ]
  },
  {
   "cell_type": "code",
   "execution_count": null,
   "metadata": {},
   "outputs": [],
   "source": [
    "pd.read_parquet(root / 'test.parquet')"
   ]
  },
  {
   "cell_type": "code",
   "execution_count": null,
   "metadata": {},
   "outputs": [],
   "source": [
    "pd.read_parquet(root / 'train.parquet')"
   ]
  },
  {
   "cell_type": "code",
   "execution_count": null,
   "metadata": {},
   "outputs": [],
   "source": [
    "import torch\n",
    "print(torch.__version__)"
   ]
  },
  {
   "cell_type": "code",
   "execution_count": null,
   "metadata": {},
   "outputs": [],
   "source": [
    "from torch.utils.data import Dataset\n",
    "from typing import List, Any, Dict\n",
    "import os\n",
    "import json\n",
    "from easydict import EasyDict\n",
    "from collections import defaultdict\n",
    "import numpy as np\n",
    "import cv2\n",
    "from torchvision import transforms\n",
    "from pprint import pprint\n",
    "class d1_text(Dataset):\n",
    "    features: List[str]\n",
    "    target: str\n",
    "    mode: str\n",
    "    imgs_train_ids: List[str]\n",
    "\n",
    "    def __init__(self, root_:str):\n",
    "\n",
    "        self.root_ = root_\n",
    "        df_train= pd.read_parquet(os.path.join(root_, 'train.parquet'))\n",
    "        imgs_train_ids = df_train['product_id'].apply(lambda x: str(x)).values\n",
    "        train_text_attributes=df_train['text_fields'].apply(lambda x: EasyDict(json.loads(x))).values\n",
    "\n",
    "        self.features = list(train_text_attributes[0].keys())\n",
    "        self.target = 'category_name'\n",
    "\n",
    "        train_targets = df_train['category_name'].values\n",
    "\n",
    "        data_dict=  defaultdict(list)\n",
    "        for attributes_ in train_text_attributes:\n",
    "            obj= EasyDict(attributes_)\n",
    "            for k,v in obj.items():\n",
    "                data_dict[k].append(v)\n",
    "        self.features = list(data_dict.keys())\n",
    "\n",
    "        data_dict = data_dict\n",
    "        \n",
    "        all = pd.DataFrame(data=data_dict)\n",
    "        # get category levels\n",
    "        splitted = [path_.split('->') for path_ in train_targets]\n",
    "        splitted = [el[1:] for el in splitted]\n",
    "        max_len_ = max([len(x) for x in splitted])\n",
    "        cat_dict = defaultdict(list)\n",
    "        for row in splitted:\n",
    "            for j in range(len(row)):\n",
    "                cat_dict[f'cat_{j}'].append(row[j])\n",
    "            for j in range(len(row), max_len_):\n",
    "                cat_dict[f'cat_{j}'].append(None)\n",
    "        cat_dict = pd.DataFrame(data=cat_dict)\n",
    "        self.cat_levels  = list(cat_dict.keys())\n",
    "        all = pd.concat([all, cat_dict],axis=1)\n",
    "        all['product_id'] = imgs_train_ids \n",
    "        all[self.target] = ['->'.join(x) for x in splitted]\n",
    "        self.all = all\n",
    "\n",
    "        self.text()\n",
    "        \n",
    "    def __getitem__(self, idx:int):\n",
    "        row = self.all.iloc[idx:idx+1]\n",
    "        \n",
    "        if self.mode == 'text':\n",
    "            text_ = row[self.features].values.flatten()\n",
    "            target_ = row[self.target].values[0]\n",
    "            return text_,target_\n",
    "        elif self.mode == 'img':\n",
    "            img_ = cv2.cvtColor(cv2.imread(os.path.join(self.root_, 'images', row['product_id'].values[0]+'.jpg')),\n",
    "                            cv2.COLOR_RGB2BGR)\n",
    "            target_ = row[self.target].values[0]\n",
    "            return img_,target_\n",
    "        elif self.mode == 'multi':\n",
    "            text_ = row[self.features].values.flatten()\n",
    "            img_ = cv2.cvtColor(cv2.imread(os.path.join(self.root_, 'images', row['product_id'].values[0]+'.jpg')),\n",
    "                            cv2.COLOR_RGB2BGR)\n",
    "            target_ = row[self.target].values[0]\n",
    "            return text_,img_,target_\n",
    "\n",
    "\n",
    "    def __len__(self):\n",
    "        return len(self.imgs_train_ids)\n",
    "                \n",
    "    def text(self):\n",
    "        self.mode = 'text'\n",
    "    def img(self):\n",
    "        self.mode = 'img'\n",
    "    def multi(self):\n",
    "        self.mode = 'multi'\n",
    "\n",
    "    def get_view(self, idx):\n",
    "        import matplotlib.pyplot as plt\n",
    "        if self.mode != 'multi':\n",
    "            print(f'mode {self.mode} not supported yet')\n",
    "        text,img,target = self[idx]\n",
    "        fig = plt.figure()\n",
    "        ax = fig.add_subplot(1,1,1)\n",
    "        ax.imshow(img)\n",
    "        def add_new_lines(text_, max_line_length):\n",
    "            o_ = ''\n",
    "            n_ = len(text_)\n",
    "            for i in range(int(n_/max_line_length)+1):\n",
    "                o_ += text_[i*max_line_length:(i+1)*max_line_length] + '\\n'\n",
    "            return o_\n",
    "        title_ = text[0]\n",
    "        desc_ = text[1]\n",
    "        final_ = 'title: '+add_new_lines(title_, 50) +'\\n'+'desc: '+ add_new_lines(desc_, 50)\n",
    "\n",
    "        ax.set_xlabel(final_,fontsize=10)\n",
    "        ax.set_title('target:'+add_new_lines(target,50),fontsize=10)\n",
    "        return fig,ax\n",
    "        \n"
   ]
  },
  {
   "cell_type": "code",
   "execution_count": null,
   "metadata": {},
   "outputs": [],
   "source": [
    "dataset = d1_text(root_='/home/user/datasets_row/d1')"
   ]
  },
  {
   "cell_type": "code",
   "execution_count": null,
   "metadata": {},
   "outputs": [],
   "source": [
    "dataset.text()\n",
    "print(dataset.features)\n",
    "print(dataset.target)\n",
    "dataset[0][0],dataset[0][1]"
   ]
  },
  {
   "cell_type": "code",
   "execution_count": null,
   "metadata": {},
   "outputs": [],
   "source": [
    "dataset.multi()"
   ]
  },
  {
   "cell_type": "code",
   "execution_count": null,
   "metadata": {},
   "outputs": [],
   "source": [
    "import matplotlib.pyplot as plt\n",
    "fig,ax = plt.subplots()\n",
    "dt_ = dataset.all.groupby('cat_0').agg(cnt=('product_id',len))\n",
    "ax.barh(dt_.index.values, dt_['cnt'].values)\n",
    "ax.set_xticks(dt_['cnt'].values)\n",
    "ax.set_xticklabels(ax.get_xticklabels(), rotation=45, ha='right')\n",
    "print('')"
   ]
  },
  {
   "cell_type": "code",
   "execution_count": null,
   "metadata": {},
   "outputs": [],
   "source": [
    "dt_ = dataset.all.groupby(dataset.target).agg(cnt=('product_id',len))\n",
    "print('total:',dt_['cnt'].sum(),'min:',dt_['cnt'].min(),'max:',dt_['cnt'].max(), 'median:', dt_['cnt'].median())\n",
    "dt_"
   ]
  },
  {
   "cell_type": "code",
   "execution_count": null,
   "metadata": {},
   "outputs": [],
   "source": [
    "for i in range(10):\n",
    "    dataset.get_view(i)"
   ]
  },
  {
   "cell_type": "code",
   "execution_count": null,
   "metadata": {},
   "outputs": [],
   "source": [
    "import copy\n",
    "def parse_category_tree(paths):\n",
    "    splitted = [path_.split('->') for path_ in paths]\n",
    "    max_len_ = max([len(x) for x in splitted])\n",
    "    arr_ = np.empty(shape=(len(splitted),max_len_),dtype=object)\n",
    "    for i in range(len(splitted)):\n",
    "        for j in range(len(splitted[i])):\n",
    "            arr_[i][j] = splitted[i][j]\n",
    "\n",
    "\n",
    "    levels_ = []\n",
    "    for level in range(arr_.shape[1]-1):\n",
    "        parents_values = set(arr_[:,level])\n",
    "        if None in parents_values:\n",
    "            parents_values = set(filter(lambda x: x is not None, parents_values))\n",
    "        parents_childs = dict()\n",
    "        for par in parents_values:\n",
    "            parent_poses = (arr_[:,level]==par)\n",
    "            childs_ = arr_[:,level+1][parent_poses]\n",
    "            childs_ = childs_[childs_!=None]\n",
    "            parents_childs.update({par: list(set(childs_))})\n",
    "        levels_.append(parents_childs)\n",
    "        \n",
    "    for i in range(len(levels_)-2, -1,-1):\n",
    "        # i <- i+1\n",
    "        d_parent = copy.deepcopy(levels_[i])\n",
    "        d_child = copy.deepcopy(levels_[i+1])\n",
    "        for parent_category in d_parent:\n",
    "            for j in range(len(d_parent[parent_category])):\n",
    "                # for j in range(len(d_parent[parent_category][i])):\n",
    "                if d_parent[parent_category][j] in d_child:\n",
    "                    if len(d_child[d_parent[parent_category][j]]) !=0:\n",
    "                        d_parent[parent_category][j] = {d_parent[parent_category][j]:d_child[d_parent[parent_category][j]]}\n",
    "                    else:\n",
    "                        # d_parent[parent_category][j] = {d_parent[parent_category][j]:None}\n",
    "                        pass\n",
    "                \n",
    "        levels_[i] = copy.deepcopy(d_parent)\n",
    "    tree_ = levels_[0]\n",
    "    cat0 = list(tree_.keys())[0]\n",
    "    return tree_[cat0]"
   ]
  },
  {
   "cell_type": "code",
   "execution_count": null,
   "metadata": {},
   "outputs": [],
   "source": [
    "tree = parse_category_tree(np.unique(dataset.train_targets))"
   ]
  },
  {
   "cell_type": "code",
   "execution_count": null,
   "metadata": {},
   "outputs": [],
   "source": [
    "pprint(tree)"
   ]
  },
  {
   "cell_type": "code",
   "execution_count": null,
   "metadata": {},
   "outputs": [],
   "source": []
  }
 ],
 "metadata": {
  "kernelspec": {
   "display_name": "natasha_venv",
   "language": "python",
   "name": "python3"
  },
  "language_info": {
   "codemirror_mode": {
    "name": "ipython",
    "version": 3
   },
   "file_extension": ".py",
   "mimetype": "text/x-python",
   "name": "python",
   "nbconvert_exporter": "python",
   "pygments_lexer": "ipython3",
   "version": "3.10.12"
  }
 },
 "nbformat": 4,
 "nbformat_minor": 2
}
